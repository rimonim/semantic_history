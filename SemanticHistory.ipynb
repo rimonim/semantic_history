{
 "cells": [
  {
   "cell_type": "markdown",
   "id": "80aadbc6-02f7-4649-9341-a2165bc0ec17",
   "metadata": {
    "tags": []
   },
   "source": [
    "# The History of Semantic Spaces\n",
    "\n",
    "Google's [Ngram viewer](https://books.google.com/ngrams/) is awesome. Among other things, it's useful for studying historical interest in particular ideas. The [2011 _Science_ paper](http://www.sciencemag.org/content/331/6014/176.full.pdf) has some fascinating examples of this. Here's one of the _least_ impressive examples from that paper:\n",
    "\n",
    "![ngram example](https://github.com/rimonim/semantic_history/tree/main/figures/ngram_example1.png)\n",
    "\n",
    "The problem with this approach is that it's impossible to tell the difference between intrest in the _idea_ of God and usage of the _word_ \"God\". This is elegantly demonstrated with another example from that paper:\n",
    "\n",
    "![ngram example](https://github.com/rimonim/semantic_history/tree/main/figures/ngram_example2.png)\n",
    "\n",
    "If we had searched only for \"the Great War\", we might have thought that interest in that topic waned after the start of World War II. The truth, though, is that people became _more_ interested in the Great War. They just started calling it \"World War I\" instead.\n",
    "\n",
    "The _Science_ paper shows off some elegant solutions to this problem, but all are both extremely labor-intensive and applicable only to the question they were designed to answer. Wouldn't it be nice to have an automated way to search for _semantic spaces_ rather than having to guess at the particular Ngrams that represent them?\n",
    "\n",
    "I think I can make that happen.\n",
    "## The Plan\n",
    "My plan is to leverage cutting-edge semantic embeddings to generate a list of closely related words from a search term. Then I'll get timeseries data from the Ngram viewer for each of those words. Finally, I'll aggredate the data across words in the set, weighting them by their semantic similarity to the search term. This weighted sum will thus give an account of historical interest in the whole semantic space surrounding the search term.\n",
    "\n",
    "## Step 1: Defining Semantic Spaces\n",
    "The first step is to get a list of closely related words, along with a quantification of their semantic similarity to the target. This is made trivial by the `gensim` package, which comes with a number of pretrained model vector embeddings. I'll use the \"glove-wiki-gigaword-200\" dataset, which is trained on Wikipedia (as it was in 2014) and the Gigaword newswire archive. As such, it provide a reasonable estimate of the kind of associations I (as a literate person living around 2014) might have with any given word - with some bias toward newsworthiness."
   ]
  },
  {
   "cell_type": "code",
   "execution_count": 5,
   "id": "d1ae026a-b47f-4c6a-a54f-f3c56d65fff8",
   "metadata": {},
   "outputs": [],
   "source": [
    "import numpy as np\n",
    "import pandas as pd\n",
    "import gensim.downloader as gs\n",
    "\n",
    "glove_vectors = gs.load('glove-wiki-gigaword-200')\n",
    "glove_vectors.sort_by_descending_frequency()"
   ]
  },
  {
   "cell_type": "markdown",
   "id": "958c74eb-f7e6-4333-80d4-3e18c7ce6608",
   "metadata": {},
   "source": [
    "Now we can get our list of most closely related words. For now I'm not going to worry about exactly what \"closely related\" means, but this will become important later."
   ]
  },
  {
   "cell_type": "code",
   "execution_count": 66,
   "id": "7d311ba0-77cd-4fc2-bd7a-2ef2ff290f45",
   "metadata": {},
   "outputs": [
    {
     "data": {
      "text/plain": [
       "[('sciences', 0.7416095733642578),\n",
       " ('physics', 0.7061820030212402),\n",
       " ('scientific', 0.7008633613586426),\n",
       " ('biology', 0.685815691947937),\n",
       " ('research', 0.6759231090545654),\n",
       " ('mathematics', 0.6562116742134094),\n",
       " ('professor', 0.6524332761764526),\n",
       " ('university', 0.6433907151222229),\n",
       " ('institute', 0.6416510939598083),\n",
       " ('engineering', 0.6346136927604675),\n",
       " ('studies', 0.6330599188804626),\n",
       " ('psychology', 0.6248202323913574),\n",
       " ('education', 0.6240411996841431),\n",
       " ('humanities', 0.6233027577400208),\n",
       " ('technology', 0.6207470297813416),\n",
       " ('chemistry', 0.6195367574691772),\n",
       " ('economics', 0.6181352734565735),\n",
       " ('fiction', 0.611706554889679),\n",
       " ('graduate', 0.6096526384353638),\n",
       " ('study', 0.6094703078269958),\n",
       " ('astronomy', 0.6084845066070557),\n",
       " ('literature', 0.6042085886001587),\n",
       " ('scientist', 0.6020684838294983),\n",
       " ('sociology', 0.6019173264503479),\n",
       " ('philosophy', 0.5945804715156555),\n",
       " ('academic', 0.5913966298103333),\n",
       " ('faculty', 0.5859984159469604),\n",
       " ('arts', 0.5852999091148376),\n",
       " ('teaching', 0.5812938809394836),\n",
       " ('journalism', 0.5780665278434753),\n",
       " ('medicine', 0.5757010579109192),\n",
       " ('educational', 0.5682973265647888),\n",
       " ('anthropology', 0.5641390085220337),\n",
       " ('biomedical', 0.5629765391349792),\n",
       " ('geography', 0.5608214139938354),\n",
       " ('medical', 0.5577351450920105),\n",
       " ('laboratory', 0.5561054944992065),\n",
       " ('scientists', 0.5536361336708069),\n",
       " ('harvard', 0.5523991584777832),\n",
       " ('studying', 0.5507236123085022),\n",
       " ('technological', 0.5497514009475708),\n",
       " ('theoretical', 0.5497371554374695),\n",
       " ('college', 0.5456724166870117),\n",
       " ('undergraduate', 0.5454325079917908),\n",
       " ('knowledge', 0.5382044315338135),\n",
       " ('researchers', 0.5378853678703308),\n",
       " ('history', 0.5371080040931702),\n",
       " ('curriculum', 0.5367644429206848),\n",
       " ('degree', 0.5319845080375671),\n",
       " ('archaeology', 0.5304142236709595),\n",
       " ('lab', 0.5282255411148071),\n",
       " ('interdisciplinary', 0.5278933048248291),\n",
       " ('geology', 0.5273165106773376),\n",
       " ('researcher', 0.5266653299331665),\n",
       " ('society', 0.5265594124794006),\n",
       " ('mit', 0.5218498110771179),\n",
       " ('academy', 0.5212053060531616),\n",
       " ('development', 0.5201591849327087),\n",
       " ('ph.d.', 0.5177592039108276),\n",
       " ('doctorate', 0.5125817060470581),\n",
       " ('journal', 0.5119146108627319),\n",
       " ('math', 0.510869562625885),\n",
       " ('courses', 0.5101572275161743),\n",
       " ('phd', 0.5099987983703613),\n",
       " ('neuroscience', 0.5074750781059265),\n",
       " ('concepts', 0.5070499181747437),\n",
       " ('culture', 0.5068839192390442),\n",
       " ('bachelor', 0.5066235661506653),\n",
       " ('studied', 0.5049602389335632),\n",
       " ('programs', 0.5037346482276917),\n",
       " ('thesis', 0.5036571025848389),\n",
       " ('school', 0.5033784508705139),\n",
       " ('innovation', 0.5023967027664185),\n",
       " ('aspects', 0.5010051131248474),\n",
       " ('teaches', 0.5008212924003601),\n",
       " ('space', 0.4993935525417328),\n",
       " ('theology', 0.49884599447250366),\n",
       " ('technical', 0.49734625220298767),\n",
       " ('program', 0.497321754693985),\n",
       " ('ecology', 0.4962829351425171),\n",
       " ('experimental', 0.4959089756011963),\n",
       " ('taught', 0.4958517551422119),\n",
       " ('subjects', 0.4954052269458771),\n",
       " ('writing', 0.4939611852169037),\n",
       " ('applied', 0.4931613504886627),\n",
       " ('universities', 0.4915434420108795),\n",
       " ('computer', 0.49134233593940735),\n",
       " ('professors', 0.4904578626155853),\n",
       " ('students', 0.4903716444969177),\n",
       " ('author', 0.4898296296596527),\n",
       " ('campus', 0.4897703230381012),\n",
       " ('doctoral', 0.4896985590457916),\n",
       " ('topics', 0.4892776608467102),\n",
       " ('social', 0.486151784658432),\n",
       " ('published', 0.48573413491249084),\n",
       " ('understanding', 0.4855744242668152),\n",
       " ('environmental', 0.4854029417037964),\n",
       " ('book', 0.4847693145275116),\n",
       " ('teach', 0.48448386788368225),\n",
       " ('focuses', 0.48379746079444885)]"
      ]
     },
     "execution_count": 66,
     "metadata": {},
     "output_type": "execute_result"
    }
   ],
   "source": [
    "glove_vectors.most_similar('science', topn = 100)"
   ]
  },
  {
   "cell_type": "markdown",
   "id": "ccb54036-ec28-4317-96ff-d3e3939106bc",
   "metadata": {},
   "source": [
    "## Step 2: Scraping\n",
    "The next prerequisite is the ability to get ngram data with code. The code below does this, outputing a nicely formated pandas DataFrame with a column for each ngram."
   ]
  },
  {
   "cell_type": "code",
   "execution_count": 6,
   "id": "4017e3e4-fbd4-424c-9f04-4e36f1521e15",
   "metadata": {},
   "outputs": [],
   "source": [
    "import requests\n",
    "\n",
    "def get_ngrams(query, start_year = 1800, end_year = 2019):\n",
    "    # Define Parameters for Request\n",
    "    params = {\n",
    "    \"content\": query,\n",
    "    \"year_start\": start_year,\n",
    "    \"year_end\": end_year\n",
    "    }\n",
    "    headers = {\n",
    "    \"User-Agent\": \"Mozilla/5.0 (Windows NT 10.0; Win64; x64) AppleWebKit/537.36 (KHTML, like Gecko) Chrome/98.0.4758.87 Safari/537.36\",\n",
    "    }\n",
    "    # Make Request\n",
    "    html = requests.get(\"https://books.google.com/ngrams/json\", params=params, headers=headers, timeout=30).text\n",
    "    \n",
    "    # Clean Data\n",
    "    df = pd.read_json(html)\n",
    "    df = pd.DataFrame(df['timeseries'].tolist(), columns = np.arange(params['year_start'], params['year_end']+1), index = df['ngram'])\n",
    "    df.index.name = \"year\"\n",
    "    df = df.transpose()\n",
    "    return df"
   ]
  },
  {
   "cell_type": "code",
   "execution_count": 10,
   "id": "87534607-65a8-4cc0-ae0a-d0e3acf9fa28",
   "metadata": {},
   "outputs": [
    {
     "data": {
      "text/html": [
       "<div>\n",
       "<style scoped>\n",
       "    .dataframe tbody tr th:only-of-type {\n",
       "        vertical-align: middle;\n",
       "    }\n",
       "\n",
       "    .dataframe tbody tr th {\n",
       "        vertical-align: top;\n",
       "    }\n",
       "\n",
       "    .dataframe thead th {\n",
       "        text-align: right;\n",
       "    }\n",
       "</style>\n",
       "<table border=\"1\" class=\"dataframe\">\n",
       "  <thead>\n",
       "    <tr style=\"text-align: right;\">\n",
       "      <th>year</th>\n",
       "      <th>the Great War</th>\n",
       "      <th>World War I</th>\n",
       "      <th>World War II</th>\n",
       "    </tr>\n",
       "  </thead>\n",
       "  <tbody>\n",
       "    <tr>\n",
       "      <th>1800</th>\n",
       "      <td>8.974027e-09</td>\n",
       "      <td>8.142913e-08</td>\n",
       "      <td>1.477712e-07</td>\n",
       "    </tr>\n",
       "    <tr>\n",
       "      <th>1801</th>\n",
       "      <td>7.179222e-09</td>\n",
       "      <td>6.514330e-08</td>\n",
       "      <td>1.182169e-07</td>\n",
       "    </tr>\n",
       "    <tr>\n",
       "      <th>1802</th>\n",
       "      <td>5.982685e-09</td>\n",
       "      <td>5.428609e-08</td>\n",
       "      <td>9.902060e-08</td>\n",
       "    </tr>\n",
       "    <tr>\n",
       "      <th>1803</th>\n",
       "      <td>5.479016e-09</td>\n",
       "      <td>4.653093e-08</td>\n",
       "      <td>8.487480e-08</td>\n",
       "    </tr>\n",
       "    <tr>\n",
       "      <th>1804</th>\n",
       "      <td>4.345168e-09</td>\n",
       "      <td>3.009015e-08</td>\n",
       "      <td>5.482785e-08</td>\n",
       "    </tr>\n",
       "  </tbody>\n",
       "</table>\n",
       "</div>"
      ],
      "text/plain": [
       "year  the Great War   World War I  World War II\n",
       "1800   8.974027e-09  8.142913e-08  1.477712e-07\n",
       "1801   7.179222e-09  6.514330e-08  1.182169e-07\n",
       "1802   5.982685e-09  5.428609e-08  9.902060e-08\n",
       "1803   5.479016e-09  4.653093e-08  8.487480e-08\n",
       "1804   4.345168e-09  3.009015e-08  5.482785e-08"
      ]
     },
     "execution_count": 10,
     "metadata": {},
     "output_type": "execute_result"
    }
   ],
   "source": [
    "df = get_ngrams(\"the Great War, World War I, World War II\")\n",
    "df.head()"
   ]
  },
  {
   "cell_type": "markdown",
   "id": "f1cc1627-b52a-4a09-ad9d-0629fd7e1ccf",
   "metadata": {},
   "source": [
    "## Step 3: Putting it Together"
   ]
  },
  {
   "cell_type": "code",
   "execution_count": 65,
   "id": "ec6cdc18-daff-4e35-a5f2-7eeaebf028aa",
   "metadata": {},
   "outputs": [],
   "source": [
    "import matplotlib.pyplot as plt\n",
    "\n",
    "class SemanticHistory:\n",
    "    def __init__(self, search = \"\", sample_n = 100):\n",
    "        self.search = str.lower(str(search))\n",
    "        self.sample_n = sample_n\n",
    "\n",
    "        if not \" \" in search:\n",
    "            self.most_similar = glove_vectors.most_similar(self.search, topn = sample_n)\n",
    "            words = [self.search] + [word[0] for word in self.most_similar]\n",
    "            similarities = [1] + [word[1] for word in self.most_similar]\n",
    "            query = ', '.join(words)\n",
    "            self.raw_data = get_ngrams(query)\n",
    "            self.data = self.raw_data.multiply(similarities).sum(axis = 1)\n",
    "        else:\n",
    "            raise Exception(\"Input must be a single word\")\n",
    "    def plot(self):\n",
    "        plt.style.use('default')\n",
    "        plt.rcParams['axes.edgecolor'] = 'white'\n",
    "        plt.rcParams['grid.color'] = 'white'\n",
    "        return self.data.plot.area(\n",
    "            title = \"Frequency of %s-Related Words Over Time\" % (str.upper(self.search[0])+self.search[1:]),\n",
    "            xticks = np.arange(1800, 2025, 25),\n",
    "            ylabel = \"Frequency (Weighted Sum of 100 Words)\",\n",
    "            grid = True)"
   ]
  },
  {
   "cell_type": "code",
   "execution_count": 67,
   "id": "7acabf80-b23b-4d6f-8d60-77b2da59878b",
   "metadata": {},
   "outputs": [],
   "source": [
    "science_history = SemanticHistory(search = \"Science\")"
   ]
  },
  {
   "cell_type": "code",
   "execution_count": 68,
   "id": "afc3ee2d-4846-4dbf-8c13-805f93f2df0b",
   "metadata": {},
   "outputs": [
    {
     "data": {
      "text/plain": [
       "<AxesSubplot:title={'center':'Frequency of Science-Related Words Over Time'}, ylabel='Frequency (Weighted Sum of 100 Words)'>"
      ]
     },
     "execution_count": 68,
     "metadata": {},
     "output_type": "execute_result"
    },
    {
     "data": {
      "image/png": "[encoded data removed]",
      "text/plain": [
       "<Figure size 640x480 with 1 Axes>"
      ]
     },
     "metadata": {},
     "output_type": "display_data"
    }
   ],
   "source": [
    "science_history.plot()"
   ]
  },
  {
   "cell_type": "markdown",
   "id": "30a34018-e154-42ec-976d-54167c23e999",
   "metadata": {},
   "source": [
    "## Paired Comparisons\n",
    "TODO: add a second weighting factor - pair as seed axis (maybe even with zero is the middle)\n",
    "Or find other _pairs_ with a similar semantic relationship?\n"
   ]
  },
  {
   "cell_type": "markdown",
   "id": "6b945a2f-5d45-4f8a-885c-8eb7284afdec",
   "metadata": {},
   "source": [
    "## Fine-Tuned Control\n",
    "\n",
    "- words in list\n",
    "- allow input to multiple words whose vectors are to be averaged\n",
    "- start and end date\n",
    "- smoothing"
   ]
  },
  {
   "cell_type": "markdown",
   "id": "69d0740a-ac75-4066-ac66-bb55fba91495",
   "metadata": {},
   "source": [
    "## Ngrams"
   ]
  }
 ],
 "metadata": {
  "kernelspec": {
   "display_name": "Python 3 (ipykernel)",
   "language": "python",
   "name": "python3"
  },
  "language_info": {
   "codemirror_mode": {
    "name": "ipython",
    "version": 3
   },
   "file_extension": ".py",
   "mimetype": "text/x-python",
   "name": "python",
   "nbconvert_exporter": "python",
   "pygments_lexer": "ipython3",
   "version": "3.9.13"
  }
 },
 "nbformat": 4,
 "nbformat_minor": 5
}
